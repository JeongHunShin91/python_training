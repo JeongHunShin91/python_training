{
  "nbformat": 4,
  "nbformat_minor": 0,
  "metadata": {
    "colab": {
      "provenance": [],
      "authorship_tag": "ABX9TyMH1Cj3GWQybVEEl0D2frBU",
      "include_colab_link": true
    },
    "kernelspec": {
      "name": "python3",
      "display_name": "Python 3"
    },
    "language_info": {
      "name": "python"
    }
  },
  "cells": [
    {
      "cell_type": "markdown",
      "metadata": {
        "id": "view-in-github",
        "colab_type": "text"
      },
      "source": [
        "<a href=\"https://colab.research.google.com/github/JungHunShin/python_training/blob/main/3%EC%A7%84%EB%B2%95_%EB%92%A4%EC%A7%91%EA%B8%B0.ipynb\" target=\"_parent\"><img src=\"https://colab.research.google.com/assets/colab-badge.svg\" alt=\"Open In Colab\"/></a>"
      ]
    },
    {
      "cell_type": "markdown",
      "source": [
        "문제 설명\n",
        "자연수 n이 매개변수로 주어집니다. n을 3진법 상에서 앞뒤로 뒤집은 후, 이를 다시 10진법으로 표현한 수를 return 하도록 solution 함수를 완성해주세요.\n",
        "\n",
        "제한사항\n",
        "n은 1 이상 100,000,000 이하인 자연수입니다."
      ],
      "metadata": {
        "id": "wNpSe1_ut3yt"
      }
    },
    {
      "cell_type": "code",
      "execution_count": null,
      "metadata": {
        "id": "mAf6o2XWt2BN"
      },
      "outputs": [],
      "source": [
        "def solution(n):\n",
        "    answer = ''\n",
        "\n",
        "    while n > 0:\t\t\t\n",
        "        n, re = divmod(n,3)\n",
        "        answer += str(re)\n",
        "    return int(answer, 3)"
      ]
    }
  ]
}