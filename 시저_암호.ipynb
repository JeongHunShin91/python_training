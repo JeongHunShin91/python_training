{
  "nbformat": 4,
  "nbformat_minor": 0,
  "metadata": {
    "colab": {
      "provenance": [],
      "authorship_tag": "ABX9TyP0D5icjsl4+CACjDVRIXiv",
      "include_colab_link": true
    },
    "kernelspec": {
      "name": "python3",
      "display_name": "Python 3"
    },
    "language_info": {
      "name": "python"
    }
  },
  "cells": [
    {
      "cell_type": "markdown",
      "metadata": {
        "id": "view-in-github",
        "colab_type": "text"
      },
      "source": [
        "<a href=\"https://colab.research.google.com/github/JungHunShin/python_training/blob/main/%EC%8B%9C%EC%A0%80_%EC%95%94%ED%98%B8.ipynb\" target=\"_parent\"><img src=\"https://colab.research.google.com/assets/colab-badge.svg\" alt=\"Open In Colab\"/></a>"
      ]
    },
    {
      "cell_type": "markdown",
      "source": [
        "문제 설명\n",
        "어떤 문장의 각 알파벳을 일정한 거리만큼 밀어서 다른 알파벳으로 바꾸는 암호화 방식을 시저 암호라고 합니다. 예를 들어 \"AB\"는 1만큼 밀면 \"BC\"가 되고, 3만큼 밀면 \"DE\"가 됩니다. \"z\"는 1만큼 밀면 \"a\"가 됩니다. 문자열 s와 거리 n을 입력받아 s를 n만큼 민 암호문을 만드는 함수, solution을 완성해 보세요.\n",
        "\n",
        "제한 조건\n",
        "공백은 아무리 밀어도 공백입니다.\n",
        "s는 알파벳 소문자, 대문자, 공백으로만 이루어져 있습니다.\n",
        "s의 길이는 8000이하입니다.\n",
        "n은 1 이상, 25이하인 자연수입니다."
      ],
      "metadata": {
        "id": "sBm9XjLOaPVA"
      }
    },
    {
      "cell_type": "code",
      "execution_count": null,
      "metadata": {
        "id": "b4J7SNv6XRNh"
      },
      "outputs": [],
      "source": [
        "def solution(s, n):\n",
        "    s = list(s)\n",
        "    for i in range(len(s)):\n",
        "        if s[i].isupper():\n",
        "            s[i]=chr((ord(s[i])-ord('A')+n)%26+ord('A'))\n",
        "        if s[i].islower():\n",
        "            s[i]=chr((ord(s[i])-ord('a')+n)%26+ord('a'))\n",
        "    return \"\".join(s)"
      ]
    }
  ]
}