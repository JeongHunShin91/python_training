{
  "nbformat": 4,
  "nbformat_minor": 0,
  "metadata": {
    "colab": {
      "provenance": [],
      "authorship_tag": "ABX9TyMpR5oHWH5ja0xsf30BGMHx",
      "include_colab_link": true
    },
    "kernelspec": {
      "name": "python3",
      "display_name": "Python 3"
    },
    "language_info": {
      "name": "python"
    }
  },
  "cells": [
    {
      "cell_type": "markdown",
      "metadata": {
        "id": "view-in-github",
        "colab_type": "text"
      },
      "source": [
        "<a href=\"https://colab.research.google.com/github/JeongHunShin91/python_training/blob/main/%5Bpy%5D_T1_6_%EA%B2%B0%EC%B8%A1%EC%B9%98_%EC%A0%9C%EA%B1%B0_%EB%B0%8F_%EA%B7%B8%EB%A3%B9_%ED%95%A9%EA%B3%84_Expected_Questions.ipynb\" target=\"_parent\"><img src=\"https://colab.research.google.com/assets/colab-badge.svg\" alt=\"Open In Colab\"/></a>"
      ]
    },
    {
      "cell_type": "code",
      "source": [
        "결측치 제거 및 그룹 합계에서 조건에 맞는 값 찾아 출력\n",
        "주어진 데이터 중 basic1.csv에서 'f1'컬럼 결측 데이터를 제거하고, 'city'와 'f2'을 기준으로 묶어 합계를 구하고, 'city가 경기이면서 f2가 0'인 조건에 만족하는 f1 값을 구하시오\n",
        "데이터셋 : basic1.csv"
      ],
      "metadata": {
        "id": "kgMZLX-fYbKI"
      },
      "execution_count": null,
      "outputs": []
    },
    {
      "cell_type": "code",
      "execution_count": null,
      "metadata": {
        "id": "OnMUOipwYY_c"
      },
      "outputs": [],
      "source": [
        "# 라이브러리 및 데이터 불러오기\n",
        "import pandas as pd\n",
        "import numpy as np\n",
        "\n",
        "df = pd.read_csv('../input/bigdatacertificationkr/basic1.csv')\n",
        "df.head()\n",
        "df_dropna = df.dropna(subset = [\"f1\"])\n",
        "df_fn = df_dropna.groupby([\"city\",\"f2\"]).sum()\n",
        "df_fn = df_fn.loc[\"경기\",0][\"f1\"]\n",
        "df_fn"
      ]
    }
  ]
}