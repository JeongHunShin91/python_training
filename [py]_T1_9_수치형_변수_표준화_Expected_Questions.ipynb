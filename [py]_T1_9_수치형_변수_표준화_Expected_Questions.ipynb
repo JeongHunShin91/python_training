{
  "nbformat": 4,
  "nbformat_minor": 0,
  "metadata": {
    "colab": {
      "provenance": [],
      "authorship_tag": "ABX9TyMcphKlMvMyzhwFx69JqAfy",
      "include_colab_link": true
    },
    "kernelspec": {
      "name": "python3",
      "display_name": "Python 3"
    },
    "language_info": {
      "name": "python"
    }
  },
  "cells": [
    {
      "cell_type": "markdown",
      "metadata": {
        "id": "view-in-github",
        "colab_type": "text"
      },
      "source": [
        "<a href=\"https://colab.research.google.com/github/JeongHunShin91/python_training/blob/main/%5Bpy%5D_T1_9_%EC%88%98%EC%B9%98%ED%98%95_%EB%B3%80%EC%88%98_%ED%91%9C%EC%A4%80%ED%99%94_Expected_Questions.ipynb\" target=\"_parent\"><img src=\"https://colab.research.google.com/assets/colab-badge.svg\" alt=\"Open In Colab\"/></a>"
      ]
    },
    {
      "cell_type": "code",
      "execution_count": null,
      "metadata": {
        "id": "UiVDDNIofpda"
      },
      "outputs": [],
      "source": [
        "수치형 변수 변환하기\n",
        "주어진 데이터에서 'f5'컬럼을 표준화(Standardization (Z-score Normalization))하고 그 중앙값을 구하시오\n",
        "데이터셋 : basic1.csv"
      ]
    },
    {
      "cell_type": "code",
      "source": [
        "# 라이브러리 및 데이터 불러오기\n",
        "import pandas as pd\n",
        "import numpy as np\n",
        "from sklearn.preprocessing import StandardScaler\n",
        "df = pd.read_csv('../input/bigdatacertificationkr/basic1.csv')\n",
        "scaler = StandardScaler()\n",
        "scaler.fit(df[[\"f5\"]])\n",
        "df[\"f5\"]=scaler.fit_transform(df[[\"f5\"]])\n",
        "df[\"f5\"].median()\n",
        "# scaler.fit_transform(df[\"f5\"])"
      ],
      "metadata": {
        "id": "VU0Ub5BQlCE_"
      },
      "execution_count": null,
      "outputs": []
    }
  ]
}