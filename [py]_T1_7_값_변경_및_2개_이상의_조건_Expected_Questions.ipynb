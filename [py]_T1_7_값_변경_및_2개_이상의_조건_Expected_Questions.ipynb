{
  "nbformat": 4,
  "nbformat_minor": 0,
  "metadata": {
    "colab": {
      "provenance": [],
      "authorship_tag": "ABX9TyNu5eM2oSW8qmt8peyuZeaP",
      "include_colab_link": true
    },
    "kernelspec": {
      "name": "python3",
      "display_name": "Python 3"
    },
    "language_info": {
      "name": "python"
    }
  },
  "cells": [
    {
      "cell_type": "markdown",
      "metadata": {
        "id": "view-in-github",
        "colab_type": "text"
      },
      "source": [
        "<a href=\"https://colab.research.google.com/github/JeongHunShin91/python_training/blob/main/%5Bpy%5D_T1_7_%EA%B0%92_%EB%B3%80%EA%B2%BD_%EB%B0%8F_2%EA%B0%9C_%EC%9D%B4%EC%83%81%EC%9D%98_%EC%A1%B0%EA%B1%B4_Expected_Questions.ipynb\" target=\"_parent\"><img src=\"https://colab.research.google.com/assets/colab-badge.svg\" alt=\"Open In Colab\"/></a>"
      ]
    },
    {
      "cell_type": "code",
      "source": [
        "'f4'컬럼의 값이 'ESFJ'인 데이터를 'ISFJ'로 대체하고, 'city'가 '경기'이면서 'f4'가 'ISFJ'인 데이터 중 'age'컬럼의 최대값을 출력하시오!\n",
        "데이터셋 : basic1.csv"
      ],
      "metadata": {
        "id": "gXlDmaGydXL2"
      },
      "execution_count": null,
      "outputs": []
    },
    {
      "cell_type": "code",
      "execution_count": null,
      "metadata": {
        "id": "jKLaZ0uGdUq4"
      },
      "outputs": [],
      "source": [
        "import pandas as pd\n",
        "import numpy as np\n",
        "\n",
        "df = pd.read_csv('../input/bigdatacertificationkr/basic1.csv')\n",
        "df.head()\n",
        "df.loc[df[\"f4\"]==\"ESFJ\"] = 'ISFJ'\n",
        "df.loc[(df[\"f4\"]== \"ISFJ\")&(df[\"city\"]==\"경기\")][\"age\"].max()"
      ]
    }
  ]
}