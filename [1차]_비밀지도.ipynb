{
  "nbformat": 4,
  "nbformat_minor": 0,
  "metadata": {
    "colab": {
      "provenance": [],
      "authorship_tag": "ABX9TyM8Of10wwxLOItkgsijo4WN",
      "include_colab_link": true
    },
    "kernelspec": {
      "name": "python3",
      "display_name": "Python 3"
    },
    "language_info": {
      "name": "python"
    }
  },
  "cells": [
    {
      "cell_type": "markdown",
      "metadata": {
        "id": "view-in-github",
        "colab_type": "text"
      },
      "source": [
        "<a href=\"https://colab.research.google.com/github/JungHunShin/python_training/blob/main/%5B1%EC%B0%A8%5D_%EB%B9%84%EB%B0%80%EC%A7%80%EB%8F%84.ipynb\" target=\"_parent\"><img src=\"https://colab.research.google.com/assets/colab-badge.svg\" alt=\"Open In Colab\"/></a>"
      ]
    },
    {
      "cell_type": "markdown",
      "source": [
        "문제 설명\n",
        "비밀지도\n",
        "네오는 평소 프로도가 비상금을 숨겨놓는 장소를 알려줄 비밀지도를 손에 넣었다. 그런데 이 비밀지도는 숫자로 암호화되어 있어 위치를 확인하기 위해서는 암호를 해독해야 한다. 다행히 지도 암호를 해독할 방법을 적어놓은 메모도 함께 발견했다.\n",
        "\n",
        "1.지도는 한 변의 길이가 n인 정사각형 배열 형태로, 각 칸은 \"공백\"(\" \") 또는 \"벽\"(\"#\") 두 종류로 이루어져 있다.\n",
        "\n",
        "2.전체 지도는 두 장의 지도를 겹쳐서 얻을 수 있다. 각각 \"지도 1\"과 \"지도 2\"라고 하자. 지도 1 또는 지도 2 중 어느 하나라도 벽인 부분은 전체 지도에서도 벽이다. 지도 1과 지도 2에서 모두 공백인 부분은 전체 지도에서도 공백이다.\n",
        "\n",
        "3.\"지도 1\"과 \"지도 2\"는 각각 정수 배열로 암호화되어 있다.\n",
        "\n",
        "4.암호화된 배열은 지도의 각 가로줄에서 벽 부분을 1, 공백 부분을 0으로 부호화했을 때 얻어지는 이진수에 해당하는 값의 배열이다.\n",
        "\n",
        "5.네오가 프로도의 비상금을 손에 넣을 수 있도록, 비밀지도의 암호를 해독하는 작업을 도와줄 프로그램을 작성하라."
      ],
      "metadata": {
        "id": "mJj4fDnicOTF"
      }
    },
    {
      "cell_type": "code",
      "execution_count": null,
      "metadata": {
        "id": "uHvg2snhcLkh"
      },
      "outputs": [],
      "source": [
        "def solution(n, arr1, arr2):\n",
        "    answer = []\n",
        "    arr1_bin = []\n",
        "    arr2_bin = []\n",
        "    for i in range(n):\n",
        "        arr1_bin.append(bin(arr1[i])[2:])\n",
        "        arr2_bin.append(bin(arr2[i])[2:])\n",
        "        arr1_bin[i] = ('0' * (n-len(arr1_bin[i]))) + arr1_bin[i]\n",
        "        arr2_bin[i] = ('0' * (n-len(arr2_bin[i]))) + arr2_bin[i]\n",
        "    \n",
        "        tmp = ''\n",
        "        for p in range(n):\n",
        "            if arr1_bin[i][p] == '1' or arr2_bin[i][p] == '1':\n",
        "                tmp += '#'\n",
        "            elif arr1_bin[i][p] == '0' and arr2_bin[i][p] == '0':\n",
        "                tmp += ' '\n",
        "        answer.append(tmp)\n",
        "        \n",
        "    return answer"
      ]
    }
  ]
}