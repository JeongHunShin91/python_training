{
  "nbformat": 4,
  "nbformat_minor": 0,
  "metadata": {
    "colab": {
      "provenance": [],
      "authorship_tag": "ABX9TyNuRXBzdl/cpvjXPJHtWESO",
      "include_colab_link": true
    },
    "kernelspec": {
      "name": "python3",
      "display_name": "Python 3"
    },
    "language_info": {
      "name": "python"
    }
  },
  "cells": [
    {
      "cell_type": "markdown",
      "metadata": {
        "id": "view-in-github",
        "colab_type": "text"
      },
      "source": [
        "<a href=\"https://colab.research.google.com/github/JeongHunShin91/python_training/blob/main/%5Bpy%5D_T1_15_%EC%8A%AC%EB%9D%BC%EC%9D%B4%EC%8B%B1_%26_%EC%A1%B0%EA%B1%B4_Expected_Question.ipynb\" target=\"_parent\"><img src=\"https://colab.research.google.com/assets/colab-badge.svg\" alt=\"Open In Colab\"/></a>"
      ]
    },
    {
      "cell_type": "code",
      "execution_count": null,
      "metadata": {
        "id": "Rl1mVMtunbfa"
      },
      "outputs": [],
      "source": [
        "# %% [code]\n",
        "# 주어진 데이터 셋에서 age컬럼 상위 20개의 데이터를 구한 다음 \n",
        "# f1의 결측치를 중앙값으로 채운다.\n",
        "# 그리고 f4가 ISFJ와 f5가 20 이상인 \n",
        "# f1의 평균값을 출력하시오!\n",
        "\n",
        "# - 데이터셋 : basic1.csv \n",
        "# - 오른쪽 상단 copy&edit 클릭 -> 예상문제 풀이 시작\n",
        "# - File -> Editor Type -> Script"
      ]
    },
    {
      "cell_type": "code",
      "source": [
        "import pandas as pd\n",
        "\n",
        "df = pd.read_csv(\"../input/bigdatacertificationkr/basic1.csv\")\n",
        "dfage = df.sort_values(\"age\",ascending=False).head(20)\n",
        "dfage = dfage.fillna(dfage[\"f1\"].median())\n",
        "dfage[\"f1\"][(dfage[\"f4\"] ==\"ISFJ\")&(dfage[\"f5\"]>=20)].mean()"
      ],
      "metadata": {
        "id": "s8LHd7FsuUSG"
      },
      "execution_count": null,
      "outputs": []
    }
  ]
}