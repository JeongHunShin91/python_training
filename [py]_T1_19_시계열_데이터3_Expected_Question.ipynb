{
  "nbformat": 4,
  "nbformat_minor": 0,
  "metadata": {
    "colab": {
      "provenance": [],
      "authorship_tag": "ABX9TyNoIjjbl/Nf8Lm344zDtRqC",
      "include_colab_link": true
    },
    "kernelspec": {
      "name": "python3",
      "display_name": "Python 3"
    },
    "language_info": {
      "name": "python"
    }
  },
  "cells": [
    {
      "cell_type": "markdown",
      "metadata": {
        "id": "view-in-github",
        "colab_type": "text"
      },
      "source": [
        "<a href=\"https://colab.research.google.com/github/JeongHunShin91/python_training/blob/main/%5Bpy%5D_T1_19_%EC%8B%9C%EA%B3%84%EC%97%B4_%EB%8D%B0%EC%9D%B4%ED%84%B03_Expected_Question.ipynb\" target=\"_parent\"><img src=\"https://colab.research.google.com/assets/colab-badge.svg\" alt=\"Open In Colab\"/></a>"
      ]
    },
    {
      "cell_type": "code",
      "execution_count": null,
      "metadata": {
        "id": "xHdktHY2EzRv"
      },
      "outputs": [],
      "source": [
        "주어진 데이터에서 2022년 월별 Sales 합계 중 가장 큰 금액과\n",
        "2023년 월별 Sales 합계 중 가장 큰 금액의 차이를 절대값으로 구하시오.\n",
        "단 Events컬럼이 '1'인경우 80%의 Salse값만 반영함\n",
        "(최종값은 소수점 반올림 후 정수 출력)"
      ]
    },
    {
      "cell_type": "code",
      "source": [
        "import pandas as pd\n",
        "df = pd.read_csv(\"../input/bigdatacertificationkr/basic2.csv\", \n",
        "                 parse_dates=['Date'])\n",
        "df[\"Date\"] = pd.to_datetime(df[\"Date\"])\n",
        "df22 = df[df[\"Date\"].dt.year == 2022]\n",
        "def appl(x):\n",
        "    if x[\"Events\"] == 1 :\n",
        "        x[\"Sales\"]= x[\"Sales\"]*0.8\n",
        "    elif x[\"Events\"] != 1 :\n",
        "        x[\"Sales\"]=x[\"Sales\"]\n",
        "    return x\n",
        "df22 = df22.apply(lambda x : appl(x), axis=1)\n",
        "df22 = df22.groupby(df22[\"Date\"].dt.month)[\"Sales\"].sum().max()\n",
        "df23 = df[df[\"Date\"].dt.year == 2023]\n",
        "df23 = df23.apply(lambda x : appl(x), axis=1)\n",
        "df23 = df23.groupby(df23[\"Date\"].dt.month)[\"Sales\"].sum().max()\n",
        "round(abs(df22-df23))"
      ],
      "metadata": {
        "id": "VM-WuhErE06a"
      },
      "execution_count": null,
      "outputs": []
    }
  ]
}