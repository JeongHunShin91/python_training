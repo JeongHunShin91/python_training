{
  "nbformat": 4,
  "nbformat_minor": 0,
  "metadata": {
    "colab": {
      "provenance": [],
      "authorship_tag": "ABX9TyNv2bzXfJBnQUUodOh1xnV8",
      "include_colab_link": true
    },
    "kernelspec": {
      "name": "python3",
      "display_name": "Python 3"
    },
    "language_info": {
      "name": "python"
    }
  },
  "cells": [
    {
      "cell_type": "markdown",
      "metadata": {
        "id": "view-in-github",
        "colab_type": "text"
      },
      "source": [
        "<a href=\"https://colab.research.google.com/github/JeongHunShin91/python_training/blob/main/%5Bpy%5D_T1_16_%EB%B6%84%EC%82%B0_Expected_Question.ipynb\" target=\"_parent\"><img src=\"https://colab.research.google.com/assets/colab-badge.svg\" alt=\"Open In Colab\"/></a>"
      ]
    },
    {
      "cell_type": "code",
      "execution_count": null,
      "metadata": {
        "id": "B-Igt87kuuvP"
      },
      "outputs": [],
      "source": [
        "# 주어진 데이터 셋에서 f2가 0값인 데이터를 age를 기준으로 오름차순 정렬하고\n",
        "# 앞에서 부터 20개의 데이터를 추출한 후 \n",
        "# f1 결측치(최소값)를 채우기 전과 후의 분산 차이를 계산하시오 (소수점 둘째 자리까지)\n",
        "\n",
        "# - 데이터셋 : basic1.csv \n"
      ]
    },
    {
      "cell_type": "code",
      "source": [
        "import pandas as pd\n",
        "\n",
        "df = pd.read_csv(\"../input/bigdatacertificationkr/basic1.csv\")\n",
        "dfage = df[df[\"f2\"]==0].sort_values(\"age\").head(20)\n",
        "dfmin = dfage.fillna(dfage[\"f1\"].min())\n",
        "round(dfage[\"f1\"].var()-dfmin[\"f1\"].var(),2)"
      ],
      "metadata": {
        "id": "8_nkshDtzGv-"
      },
      "execution_count": null,
      "outputs": []
    }
  ]
}