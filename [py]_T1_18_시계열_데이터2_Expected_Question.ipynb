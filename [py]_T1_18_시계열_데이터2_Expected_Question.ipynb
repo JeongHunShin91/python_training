{
  "nbformat": 4,
  "nbformat_minor": 0,
  "metadata": {
    "colab": {
      "provenance": [],
      "authorship_tag": "ABX9TyP/RgkQgXzwfKctlZ7nc8y7",
      "include_colab_link": true
    },
    "kernelspec": {
      "name": "python3",
      "display_name": "Python 3"
    },
    "language_info": {
      "name": "python"
    }
  },
  "cells": [
    {
      "cell_type": "markdown",
      "metadata": {
        "id": "view-in-github",
        "colab_type": "text"
      },
      "source": [
        "<a href=\"https://colab.research.google.com/github/JeongHunShin91/python_training/blob/main/%5Bpy%5D_T1_18_%EC%8B%9C%EA%B3%84%EC%97%B4_%EB%8D%B0%EC%9D%B4%ED%84%B02_Expected_Question.ipynb\" target=\"_parent\"><img src=\"https://colab.research.google.com/assets/colab-badge.svg\" alt=\"Open In Colab\"/></a>"
      ]
    },
    {
      "cell_type": "code",
      "execution_count": null,
      "metadata": {
        "id": "wTUjdTUOMlgi"
      },
      "outputs": [],
      "source": [
        "주어진 데이터에서 2022년 5월 주말과 평일의 sales컬럼 평균값 차이를 구하시오 (소수점 둘째자리까지 출력, 반올림)\n",
        "데이터셋 : basic2.csv"
      ]
    },
    {
      "cell_type": "code",
      "source": [
        "import pandas as pd\n",
        "df = pd.read_csv(\"../input/bigdatacertificationkr/basic2.csv\", parse_dates=['Date'])\n",
        "\n",
        "df[\"Date\"]=pd.to_datetime(df[\"Date\"])\n",
        "df5 = df[(df[\"Date\"].dt.month == 5)& (df[\"Date\"].dt.year == 2022)]\n",
        "df1 = df5[df[\"Date\"].dt.dayofweek.isin([5,6])][\"Sales\"].mean()\n",
        "df2 = df5[df[\"Date\"].dt.dayofweek.isin([0,1,2,3,4,])][\"Sales\"].mean()\n",
        "round((df1-df2),2)"
      ],
      "metadata": {
        "id": "8kaUpizFhkWA"
      },
      "execution_count": null,
      "outputs": []
    }
  ]
}