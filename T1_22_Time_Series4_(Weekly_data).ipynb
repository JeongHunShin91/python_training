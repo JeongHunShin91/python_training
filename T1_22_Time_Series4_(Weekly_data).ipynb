{
  "nbformat": 4,
  "nbformat_minor": 0,
  "metadata": {
    "colab": {
      "provenance": [],
      "authorship_tag": "ABX9TyOmZvloU2uROiaANTRQxSSX",
      "include_colab_link": true
    },
    "kernelspec": {
      "name": "python3",
      "display_name": "Python 3"
    },
    "language_info": {
      "name": "python"
    }
  },
  "cells": [
    {
      "cell_type": "markdown",
      "metadata": {
        "id": "view-in-github",
        "colab_type": "text"
      },
      "source": [
        "<a href=\"https://colab.research.google.com/github/JeongHunShin91/python_training/blob/main/T1_22_Time_Series4_(Weekly_data).ipynb\" target=\"_parent\"><img src=\"https://colab.research.google.com/assets/colab-badge.svg\" alt=\"Open In Colab\"/></a>"
      ]
    },
    {
      "cell_type": "code",
      "execution_count": null,
      "metadata": {
        "id": "6dKrpDdc7Pid"
      },
      "outputs": [],
      "source": [
        "주어진 데이터(basic2.csv)에서 주 단위 Sales의 합계를 구하고, 가장 큰 값을 가진 주와 작은 값을 가진 주의 차이를 구하시오(절대값)\n",
        "\n",
        "데이터셋 : basic2.csv"
      ]
    },
    {
      "cell_type": "code",
      "source": [
        "import pandas as pd\n",
        "df = pd.read_csv(\"../input/bigdatacertificationkr/basic2.csv\", parse_dates=['Date'], index_col=0)\n",
        "df.head()\n",
        "df[\"sale2\"]=df[\"Sales\"].resample(\"W\").sum()\n",
        "df[\"sale2\"].max()-df[\"sale2\"].min()"
      ],
      "metadata": {
        "id": "HPu02dQv7ROI"
      },
      "execution_count": null,
      "outputs": []
    }
  ]
}