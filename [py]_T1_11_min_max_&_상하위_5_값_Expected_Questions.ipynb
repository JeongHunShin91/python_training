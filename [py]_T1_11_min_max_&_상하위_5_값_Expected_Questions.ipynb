{
  "nbformat": 4,
  "nbformat_minor": 0,
  "metadata": {
    "colab": {
      "provenance": [],
      "authorship_tag": "ABX9TyNlxO8FGPCrAJHH8gd/hOW0",
      "include_colab_link": true
    },
    "kernelspec": {
      "name": "python3",
      "display_name": "Python 3"
    },
    "language_info": {
      "name": "python"
    }
  },
  "cells": [
    {
      "cell_type": "markdown",
      "metadata": {
        "id": "view-in-github",
        "colab_type": "text"
      },
      "source": [
        "<a href=\"https://colab.research.google.com/github/JeongHunShin91/python_training/blob/main/%5Bpy%5D_T1_11_min_max_%26_%EC%83%81%ED%95%98%EC%9C%84_5_%EA%B0%92_Expected_Questions.ipynb\" target=\"_parent\"><img src=\"https://colab.research.google.com/assets/colab-badge.svg\" alt=\"Open In Colab\"/></a>"
      ]
    },
    {
      "cell_type": "code",
      "source": [
        "# min-max스케일링 기준 상하위 5% 구하기\n",
        "# 주어진 데이터에서 'f5'컬럼을 min-max 스케일 변환한 후, \n",
        "# 상위 5%와 하위 5% 값의 합을 구하시오\n",
        "\n",
        "# - 데이터셋 : basic1.csv\n",
        "# - 오른쪽 상단 copy&edit 클릭 -> 예상문제 풀이 시작\n",
        "# - File -> Editor Type -> Script"
      ],
      "metadata": {
        "id": "cXYnyKn8Jk0T"
      },
      "execution_count": null,
      "outputs": []
    },
    {
      "cell_type": "code",
      "execution_count": null,
      "metadata": {
        "id": "FyBeVM-_BznW"
      },
      "outputs": [],
      "source": [
        "import pandas as pd\n",
        "import numpy as np\n",
        "from sklearn.preprocessing import MinMaxScaler\n",
        "\n",
        "df = pd.read_csv('../input/bigdatacertificationkr/basic1.csv')\n",
        "min_max_scaler = MinMaxScaler()\n",
        "df[\"scaler\"] = min_max_scaler.fit_transform(df[[\"f5\"]])\n",
        "print(df.head())\n",
        "scaler = df[\"scaler\"]\n",
        "(scaler.quantile(0.05)+scaler.quantile(0.95)).sum()"
      ]
    }
  ]
}