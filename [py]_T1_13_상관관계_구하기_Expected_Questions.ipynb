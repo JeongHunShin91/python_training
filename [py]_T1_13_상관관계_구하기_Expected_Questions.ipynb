{
  "nbformat": 4,
  "nbformat_minor": 0,
  "metadata": {
    "colab": {
      "provenance": [],
      "authorship_tag": "ABX9TyO0lfYpdJ0alB4NduDaCcjX",
      "include_colab_link": true
    },
    "kernelspec": {
      "name": "python3",
      "display_name": "Python 3"
    },
    "language_info": {
      "name": "python"
    }
  },
  "cells": [
    {
      "cell_type": "markdown",
      "metadata": {
        "id": "view-in-github",
        "colab_type": "text"
      },
      "source": [
        "<a href=\"https://colab.research.google.com/github/JeongHunShin91/python_training/blob/main/%5Bpy%5D_T1_13_%EC%83%81%EA%B4%80%EA%B4%80%EA%B3%84_%EA%B5%AC%ED%95%98%EA%B8%B0_Expected_Questions.ipynb\" target=\"_parent\"><img src=\"https://colab.research.google.com/assets/colab-badge.svg\" alt=\"Open In Colab\"/></a>"
      ]
    },
    {
      "cell_type": "code",
      "execution_count": null,
      "metadata": {
        "id": "4qfMP0D3VgxC"
      },
      "outputs": [],
      "source": [
        "# 상관관계 구하기\n",
        "# 주어진 데이터에서 상관관계를 구하고, quality와의 상관관계가 가장 큰 값과, 가장 작은 값을 구한 다음 더하시오!\n",
        "# 단, quality와 quality 상관관계 제외, 소수점 둘째 자리까지 출력\n",
        "\n",
        "# - 데이터셋 : ../input/red-wine-quality-cortez-et-al-2009/winequality-red.csv\n",
        "# - 오른쪽 상단 copy&edit 클릭 -> 예상문제 풀이 시작\n",
        "# - 스크립트 방식 권장: File -> Editor Type -> Script"
      ]
    },
    {
      "cell_type": "code",
      "source": [
        "import pandas as pd\n",
        "import numpy as np\n",
        "\n",
        "df = pd.read_csv(\"../input/red-wine-quality-cortez-et-al-2009/winequality-red.csv\")\n",
        "print(df.head())\n",
        "dfcor = df.corr()\n",
        "dfmax = abs(dfcor[dfcor[\"quality\"]!=1][\"quality\"]).max()\n",
        "dfmin = abs(dfcor[dfcor[\"quality\"]!=1][\"quality\"]).min()\n",
        "round(dfmax+dfmin,2)"
      ],
      "metadata": {
        "id": "NGdz588zgnDM"
      },
      "execution_count": null,
      "outputs": []
    }
  ]
}