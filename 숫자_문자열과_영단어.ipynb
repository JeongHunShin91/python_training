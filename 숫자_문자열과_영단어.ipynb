{
  "nbformat": 4,
  "nbformat_minor": 0,
  "metadata": {
    "colab": {
      "provenance": [],
      "authorship_tag": "ABX9TyMCORvEmcFkKykY4gJ8tOAH",
      "include_colab_link": true
    },
    "kernelspec": {
      "name": "python3",
      "display_name": "Python 3"
    },
    "language_info": {
      "name": "python"
    }
  },
  "cells": [
    {
      "cell_type": "markdown",
      "metadata": {
        "id": "view-in-github",
        "colab_type": "text"
      },
      "source": [
        "<a href=\"https://colab.research.google.com/github/JeongHunShin91/python_training/blob/main/%EC%88%AB%EC%9E%90_%EB%AC%B8%EC%9E%90%EC%97%B4%EA%B3%BC_%EC%98%81%EB%8B%A8%EC%96%B4.ipynb\" target=\"_parent\"><img src=\"https://colab.research.google.com/assets/colab-badge.svg\" alt=\"Open In Colab\"/></a>"
      ]
    },
    {
      "cell_type": "code",
      "execution_count": null,
      "metadata": {
        "id": "YniVxZpQI4eZ"
      },
      "outputs": [],
      "source": [
        "네오와 프로도가 숫자놀이를 하고 있습니다. 네오가 프로도에게 숫자를 건넬 때 일부 자릿수를 영단어로 바꾼 카드를 건네주면 프로도는 원래 숫자를 찾는 게임입니다.\n",
        "\n",
        "다음은 숫자의 일부 자릿수를 영단어로 바꾸는 예시입니다.\n",
        "\n",
        "1478 → \"one4seveneight\"\n",
        "234567 → \"23four5six7\"\n",
        "10203 → \"1zerotwozero3\"\n",
        "이렇게 숫자의 일부 자릿수가 영단어로 바뀌어졌거나, 혹은 바뀌지 않고 그대로인 문자열 s가 매개변수로 주어집니다. s가 의미하는 원래 숫자를 return 하도록 solution 함수를 완성해주세요.\n",
        "\n",
        "참고로 각 숫자에 대응되는 영단어는 다음 표와 같습니다."
      ]
    },
    {
      "cell_type": "code",
      "source": [
        "def solution(s):\n",
        "    answer = s \n",
        "    num_s = {'zero':0, 'one':1, 'two':2, 'three':3, 'four':4, 'five':5, 'six':6, 'seven':7, 'eight':8, 'nine':9}\n",
        "    \n",
        "    for item in num_s.items():\n",
        "        answer = answer.replace(item[0], str(item[1]))   \n",
        "\n",
        "\n",
        "    return int(answer)"
      ],
      "metadata": {
        "id": "YHtSrv6XI5j_"
      },
      "execution_count": null,
      "outputs": []
    }
  ]
}