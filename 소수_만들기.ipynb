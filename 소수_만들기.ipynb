{
  "nbformat": 4,
  "nbformat_minor": 0,
  "metadata": {
    "colab": {
      "provenance": [],
      "authorship_tag": "ABX9TyM+MrfvJIG73nn62+f7D4Sb",
      "include_colab_link": true
    },
    "kernelspec": {
      "name": "python3",
      "display_name": "Python 3"
    },
    "language_info": {
      "name": "python"
    }
  },
  "cells": [
    {
      "cell_type": "markdown",
      "metadata": {
        "id": "view-in-github",
        "colab_type": "text"
      },
      "source": [
        "<a href=\"https://colab.research.google.com/github/JeongHunShin91/python_training/blob/main/%EC%86%8C%EC%88%98_%EB%A7%8C%EB%93%A4%EA%B8%B0.ipynb\" target=\"_parent\"><img src=\"https://colab.research.google.com/assets/colab-badge.svg\" alt=\"Open In Colab\"/></a>"
      ]
    },
    {
      "cell_type": "markdown",
      "source": [
        "문제 설명\n",
        "주어진 숫자 중 3개의 수를 더했을 때 소수가 되는 경우의 개수를 구하려고 합니다. 숫자들이 들어있는 배열 nums가 매개변수로 주어질 때, nums에 있는 숫자들 중 서로 다른 3개를 골라 더했을 때 소수가 되는 경우의 개수를 return 하도록 solution 함수를 완성해주세요.\n",
        "\n",
        "제한사항\n",
        "nums에 들어있는 숫자의 개수는 3개 이상 50개 이하입니다.\n",
        "nums의 각 원소는 1 이상 1,000 이하의 자연수이며, 중복된 숫자가 들어있지 않습니다."
      ],
      "metadata": {
        "id": "dOkJDGHVoH3F"
      }
    },
    {
      "cell_type": "code",
      "execution_count": null,
      "metadata": {
        "id": "u19CF3iJoHNP"
      },
      "outputs": [],
      "source": [
        "from itertools import combinations\n",
        "import math\n",
        "\n",
        "def is_prime_number(x):\n",
        "    for i in range(2, int(math.sqrt(x))+1):\n",
        "        if x % i == 0:\n",
        "            return False\n",
        "    return True\n",
        "\n",
        "def solution(nums):\n",
        "    answer = 0\n",
        "    for x in combinations(nums, 3):\n",
        "        if is_prime_number(sum(x)):\n",
        "            answer += 1\n"
      ]
    }
  ]
}