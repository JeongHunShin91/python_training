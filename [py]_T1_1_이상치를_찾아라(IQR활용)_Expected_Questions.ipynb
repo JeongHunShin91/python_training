{
  "nbformat": 4,
  "nbformat_minor": 0,
  "metadata": {
    "colab": {
      "provenance": [],
      "authorship_tag": "ABX9TyOOY1yBh3N+JckkWnQl7HIU",
      "include_colab_link": true
    },
    "kernelspec": {
      "name": "python3",
      "display_name": "Python 3"
    },
    "language_info": {
      "name": "python"
    }
  },
  "cells": [
    {
      "cell_type": "markdown",
      "metadata": {
        "id": "view-in-github",
        "colab_type": "text"
      },
      "source": [
        "<a href=\"https://colab.research.google.com/github/JeongHunShin91/python_training/blob/main/%5Bpy%5D_T1_1_%EC%9D%B4%EC%83%81%EC%B9%98%EB%A5%BC_%EC%B0%BE%EC%95%84%EB%9D%BC(IQR%ED%99%9C%EC%9A%A9)_Expected_Questions.ipynb\" target=\"_parent\"><img src=\"https://colab.research.google.com/assets/colab-badge.svg\" alt=\"Open In Colab\"/></a>"
      ]
    },
    {
      "cell_type": "code",
      "execution_count": null,
      "metadata": {
        "id": "BQdMxXIdiMsD"
      },
      "outputs": [],
      "source": [
        "## 이상치를 찾아라\n",
        "### 데이터에서 IQR을 활용해 Fare컬럼의 이상치를 찾고, 이상치 데이터의 여성 수를 구하시오\n",
        "- 강의 영상 : https://youtu.be/ipBW5D_UJEo\n",
        "- 데이터셋 : titanic \n",
        "- 오른쪽 상단 copy&edit 클릭 -> 예상문제 풀이 시작\n",
        "- 데이터 위치 \"../input/titanic/train.csv\" (copy&edit가 아닐 경우 별도로 데이터셋 불러와야 함)"
      ]
    },
    {
      "cell_type": "code",
      "source": [
        "import pandas as pd\n",
        "import numpy as np\n",
        "df = pd.read_csv('../input/titanic/train.csv')\n",
        "df[\"Fare\"].describe()\n",
        "q1=df[\"Fare\"].quantile(0.25)\n",
        "q3=df[\"Fare\"].quantile(0.75)\n",
        "iqr=q3-q1\n",
        "df_iqr = df[\"Fare\"]<q1-1.5*iqr \n",
        "df_iqr1 = df[\"Fare\"]>q3+1.5*iqr\n",
        "df_df = df[df_iqr|df_iqr1]\n",
        "df_df2 = (df_df[\"Sex\"] == \"female\")\n",
        "sum(df_df2)"
      ],
      "metadata": {
        "id": "e5J0FDt7izuS"
      },
      "execution_count": null,
      "outputs": []
    }
  ]
}