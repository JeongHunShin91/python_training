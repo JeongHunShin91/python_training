{
  "nbformat": 4,
  "nbformat_minor": 0,
  "metadata": {
    "colab": {
      "provenance": [],
      "authorship_tag": "ABX9TyMGW9ci+K9tDvbPCrSlAF3b",
      "include_colab_link": true
    },
    "kernelspec": {
      "name": "python3",
      "display_name": "Python 3"
    },
    "language_info": {
      "name": "python"
    }
  },
  "cells": [
    {
      "cell_type": "markdown",
      "metadata": {
        "id": "view-in-github",
        "colab_type": "text"
      },
      "source": [
        "<a href=\"https://colab.research.google.com/github/JeongHunShin91/python_training/blob/main/%5Bpy%5D_T1_17_%08%EC%8B%9C%EA%B3%84%EC%97%B4_%EB%8D%B0%EC%9D%B4%ED%84%B01_Expected_Question.ipynb\" target=\"_parent\"><img src=\"https://colab.research.google.com/assets/colab-badge.svg\" alt=\"Open In Colab\"/></a>"
      ]
    },
    {
      "cell_type": "code",
      "execution_count": null,
      "metadata": {
        "id": "CJ7UaXagIaU3"
      },
      "outputs": [],
      "source": [
        "\n",
        "2022년 5월 sales의 중앙값을 구하시오\n",
        "데이터셋 : basic2.csv"
      ]
    },
    {
      "cell_type": "code",
      "source": [
        "import pandas as pd\n",
        "df = pd.read_csv(\"../input/bigdatacertificationkr/basic2.csv\")\n",
        "\n",
        "\n",
        "df[\"Date\"]=pd.to_datetime(df[\"Date\"],format='%Y-%m-%d')\n",
        "df[\"Sales\"][df[\"Date\"].between('2022-05-01','2022-05-31')].median()"
      ],
      "metadata": {
        "id": "l95B_2RtMUQA"
      },
      "execution_count": null,
      "outputs": []
    }
  ]
}