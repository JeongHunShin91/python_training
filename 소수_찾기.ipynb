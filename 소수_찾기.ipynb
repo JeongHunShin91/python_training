{
  "nbformat": 4,
  "nbformat_minor": 0,
  "metadata": {
    "colab": {
      "provenance": [],
      "authorship_tag": "ABX9TyMGBGu9YWPHkO/m7xCwU1pr",
      "include_colab_link": true
    },
    "kernelspec": {
      "name": "python3",
      "display_name": "Python 3"
    },
    "language_info": {
      "name": "python"
    }
  },
  "cells": [
    {
      "cell_type": "markdown",
      "metadata": {
        "id": "view-in-github",
        "colab_type": "text"
      },
      "source": [
        "<a href=\"https://colab.research.google.com/github/JeongHunShin91/python_training/blob/main/%EC%86%8C%EC%88%98_%EC%B0%BE%EA%B8%B0.ipynb\" target=\"_parent\"><img src=\"https://colab.research.google.com/assets/colab-badge.svg\" alt=\"Open In Colab\"/></a>"
      ]
    },
    {
      "cell_type": "code",
      "execution_count": null,
      "metadata": {
        "id": "Yu25wsh9hnw_"
      },
      "outputs": [],
      "source": [
        "문제 설명\n",
        "1부터 입력받은 숫자 n 사이에 있는 소수의 개수를 반환하는 함수, solution을 만들어 보세요.\n",
        "\n",
        "소수는 1과 자기 자신으로만 나누어지는 수를 의미합니다.\n",
        "(1은 소수가 아닙니다.)\n",
        "\n",
        "제한 조건\n",
        "n은 2이상 1000000이하의 자연수입니다."
      ]
    },
    {
      "cell_type": "code",
      "source": [
        "def solution(n):\n",
        "    answer = 0\n",
        "    sosu = [1] *(n+1)\n",
        "    for i in range(2,n+1):\n",
        "        if sosu[i] == 1:\n",
        "            answer += 1\n",
        "            for j in range(i*2,n+1,i):\n",
        "                sosu[j] = 0\n",
        "    return answer\n",
        "\n",
        "print(solution(10))\n",
        "print(solution(5))"
      ],
      "metadata": {
        "id": "5I2InWX-hsXZ"
      },
      "execution_count": null,
      "outputs": []
    }
  ]
}