{
  "nbformat": 4,
  "nbformat_minor": 0,
  "metadata": {
    "colab": {
      "provenance": [],
      "authorship_tag": "ABX9TyPSi6UrIzGvjnuxAwUKvxtN",
      "include_colab_link": true
    },
    "kernelspec": {
      "name": "python3",
      "display_name": "Python 3"
    },
    "language_info": {
      "name": "python"
    }
  },
  "cells": [
    {
      "cell_type": "markdown",
      "metadata": {
        "id": "view-in-github",
        "colab_type": "text"
      },
      "source": [
        "<a href=\"https://colab.research.google.com/github/JeongHunShin91/python_training/blob/main/%5Bpy%5D_T1_14_2%EA%B0%9C_%EC%A1%B0%EA%B1%B4%EC%97%90_%EB%94%B0%EB%A5%B8_%EC%83%81%EC%9C%84_%EA%B0%92_Expected_Question.ipynb\" target=\"_parent\"><img src=\"https://colab.research.google.com/assets/colab-badge.svg\" alt=\"Open In Colab\"/></a>"
      ]
    },
    {
      "cell_type": "code",
      "execution_count": null,
      "metadata": {
        "id": "yao62SUFg-O6"
      },
      "outputs": [],
      "source": [
        "# city와 f4를 기준으로 f5의 평균값을 구한 다음, f5를 기준으로 상위 7개 값을 모두 더해 출력하시오 (소수점 둘째자리까지 출력)\n",
        "# - 데이터셋 : basic1.csv \n",
        "# - 오른쪽 상단 copy&edit 클릭 -> 예상문제 풀이 시작\n",
        "# - File -> Editor Type -> Script"
      ]
    },
    {
      "cell_type": "code",
      "source": [
        "import pandas as pd\n",
        "\n",
        "df = pd.read_csv(\"../input/bigdatacertificationkr/basic1.csv\")\n",
        "df.head()\n",
        "dfgr=df.groupby([\"city\",\"f4\"])[\"f5\"].mean()\n",
        "round(dfgr.reset_index().sort_values(\"f5\",ascending = False).head(7)[\"f5\"].sum(),2)"
      ],
      "metadata": {
        "id": "FU2MdFc9m3ls"
      },
      "execution_count": null,
      "outputs": []
    }
  ]
}