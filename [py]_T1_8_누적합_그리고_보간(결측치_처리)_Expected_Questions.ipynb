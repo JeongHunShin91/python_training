{
  "nbformat": 4,
  "nbformat_minor": 0,
  "metadata": {
    "colab": {
      "provenance": [],
      "authorship_tag": "ABX9TyMLbMxqw/hYBYjOe37gPeVV",
      "include_colab_link": true
    },
    "kernelspec": {
      "name": "python3",
      "display_name": "Python 3"
    },
    "language_info": {
      "name": "python"
    }
  },
  "cells": [
    {
      "cell_type": "markdown",
      "metadata": {
        "id": "view-in-github",
        "colab_type": "text"
      },
      "source": [
        "<a href=\"https://colab.research.google.com/github/JeongHunShin91/python_training/blob/main/%5Bpy%5D_T1_8_%EB%88%84%EC%A0%81%ED%95%A9_%EA%B7%B8%EB%A6%AC%EA%B3%A0_%EB%B3%B4%EA%B0%84(%EA%B2%B0%EC%B8%A1%EC%B9%98_%EC%B2%98%EB%A6%AC)_Expected_Questions.ipynb\" target=\"_parent\"><img src=\"https://colab.research.google.com/assets/colab-badge.svg\" alt=\"Open In Colab\"/></a>"
      ]
    },
    {
      "cell_type": "code",
      "execution_count": null,
      "metadata": {
        "id": "pM3W8w0KddyP"
      },
      "outputs": [],
      "source": [
        "주어진 데이터 셋에서 'f2' 컬럼이 1인 조건에 해당하는 데이터의 'f1'컬럼 누적합을 계산한다. 이때 발생하는 누적합 결측치는 바로 뒤의 값을 채우고, 누적합의 평균값을 출력한다. (단, 결측치 바로 뒤의 값이 없으면 다음에 나오는 값을 채워넣는다)\n",
        "데이터셋 : basic1.csv"
      ]
    },
    {
      "cell_type": "code",
      "source": [
        "import pandas as pd\n",
        "import numpy as np\n",
        "\n",
        "df = pd.read_csv('../input/bigdatacertificationkr/basic1.csv')\n",
        "df.head(2)\n",
        "df_cumsum = df[df[\"f2\"]==1][\"f1\"].cumsum()\n",
        "df_cumsum.fillna(method=\"bfill\").mean()\n"
      ],
      "metadata": {
        "id": "oHBwqwpwfh6H"
      },
      "execution_count": null,
      "outputs": []
    }
  ]
}