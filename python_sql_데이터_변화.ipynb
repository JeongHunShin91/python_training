{
  "nbformat": 4,
  "nbformat_minor": 0,
  "metadata": {
    "colab": {
      "provenance": [],
      "authorship_tag": "ABX9TyNyGYDIldcR9mcNzu35Ga7t",
      "include_colab_link": true
    },
    "kernelspec": {
      "name": "python3",
      "display_name": "Python 3"
    },
    "language_info": {
      "name": "python"
    }
  },
  "cells": [
    {
      "cell_type": "markdown",
      "metadata": {
        "id": "view-in-github",
        "colab_type": "text"
      },
      "source": [
        "<a href=\"https://colab.research.google.com/github/JungHunShin/python_training/blob/main/python_sql_%EB%8D%B0%EC%9D%B4%ED%84%B0_%EB%B3%80%ED%99%94.ipynb\" target=\"_parent\"><img src=\"https://colab.research.google.com/assets/colab-badge.svg\" alt=\"Open In Colab\"/></a>"
      ]
    },
    {
      "cell_type": "code",
      "source": [
        "--oracle\n",
        "--SJH\n",
        "--[문항1]  R 또는 python code와 SQL을 이용하여 Oracle XE DB에 접속하여 아래 문제를 실행하고 code를 제출하시오.\n",
        "--- Open book, open note\n",
        "--- 대면/비대면 응시자는 카페 내 ‘평가답안제출’ 게시판에 R 또는 python code 업로드\n",
        "--- R 또는 python code안에 본인의 성명을 기입\n",
        "--- R 또는 python 파일명에 본인의 영문이니셜을 추가\n",
        "\n",
        "--1. SQL developer를 이용하여 Oracle XE DB에 scott계정으로 접속하여 아래 table 을 생성하시오.\n",
        "CREATE TABLE exam_table(\n",
        "    id VARCHAR(50) PRIMARY KEY,\n",
        "    pass VARCHAR(30) NOT NULL,\n",
        "    name VARCHAR(25) NOT NULL,\n",
        "    score NUMBER(3)\n",
        ");  \n",
        "INSERT INTO exam_table(id,pass,name,score)VALUES(1001,1234,'Kim',90);\n",
        "INSERT INTO exam_table(id,pass,name,score)VALUES(1002,3456,'Lee',100);\n",
        "INSERT INTO exam_table(id,pass,name,score)VALUES(1003,5678,'Park',85);\n",
        "INSERT INTO exam_table(id,pass,name,score)VALUES(1004,7890,'Choi',75);"
      ],
      "metadata": {
        "id": "121AHDqQXGBA"
      },
      "execution_count": null,
      "outputs": []
    },
    {
      "cell_type": "code",
      "execution_count": null,
      "metadata": {
        "id": "3c4qdsdjWxUB"
      },
      "outputs": [],
      "source": [
        "--python\n",
        "# [문항2]  2. Oracle XE DB에 접근하기 위한 설정\n",
        "# (driver 설정, import package 또는 package loading, DB연결 등)을 하시오.\n",
        "import cx_Oracle\n",
        "import os\n",
        "\n",
        "os.putenv('NLS_LANG', '.UTF8')\n",
        "\n",
        "LOCATION = r\"C:/instantclient_21_3\"\n",
        "os.environ[\"PATH\"] = LOCATION + \";\" + os.environ[\"PATH\"]\n",
        "\n",
        "connect = cx_Oracle.connect(\"scott\", \"tiger\", \"localhost:1521/xe\")\n",
        "cs = connect.cursor()\n",
        "\n",
        "# 3. exam_table 내 모든 데이터를 조회하시오.\n",
        "cs.execute(\"SELECT * FROM exam_table\")\n",
        "for i in cs:\n",
        "    print(i)\n",
        "\n",
        "# 4. 아래 레코드 추가하시오.\n",
        "cs.execute(\"INSERT INTO exam_table VALUES(1005, 2345, 'Jung', 95)\")\n",
        "cs.execute(\"INSERT INTO exam_table VALUES(1006, 4567, 'Kang', 80)\")\n",
        "\n",
        "# [문항5]  5. 추가된 레코드를 포함하여 exam_table 내 모든 데이터를 조회하시오.\n",
        "cs.execute(\"SELECT * FROM exam_table\")\n",
        "for i in cs:\n",
        "    print(i)\n",
        "\n",
        "# [문항6]  6. 성적(score) 기준으로 내림차순 정렬하시오.\n",
        "cs.execute(\"SELECT * FROM exam_table ORDER BY score desc\")\n",
        "for i in cs:\n",
        "    print(i)\n",
        "\n",
        "# [문항7]  7. name 이 ‘Choi’인 학생의 성적을 80점으로 수정하시오.\n",
        "cs.execute(\"UPDATE exam_table set score = 80 WHERE name = 'choi'\")\n",
        "cs.execute(\"SELECT * FROM exam_table\")\n",
        "for i in cs:\n",
        "    print(i)\n",
        "\n",
        "# [문항8]  8. 성적(score)이 80점 초과인 레코드만 조회하시오.\n",
        "cs.execute(\"SELECT * FROM exam_table where score > 80\")\n",
        "for i in cs:\n",
        "    print(i)\n",
        "\n",
        "# [문항9]  9. name이 ‘Kang’인 학생의 레코드를 삭제하시오.\n",
        "cs.execute(\"DElETE FROM exam_table where name = 'Kang'\")\n",
        "cs.execute(\"SELECT * FROM exam_table\")\n",
        "for i in cs:\n",
        "    print(i)\n",
        "\n",
        "# [문항10]  10. 전체 레코드를 조회하시오.\n",
        "cs.execute(\"SELECT * FROM exam_table\")\n",
        "for i in cs:\n",
        "    print(i)"
      ]
    }
  ]
}