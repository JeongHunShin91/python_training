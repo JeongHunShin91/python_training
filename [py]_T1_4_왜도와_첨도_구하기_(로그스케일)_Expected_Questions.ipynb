{
  "nbformat": 4,
  "nbformat_minor": 0,
  "metadata": {
    "colab": {
      "provenance": [],
      "authorship_tag": "ABX9TyMXqsgU20cY3BA+pL7ooxA9",
      "include_colab_link": true
    },
    "kernelspec": {
      "name": "python3",
      "display_name": "Python 3"
    },
    "language_info": {
      "name": "python"
    }
  },
  "cells": [
    {
      "cell_type": "markdown",
      "metadata": {
        "id": "view-in-github",
        "colab_type": "text"
      },
      "source": [
        "<a href=\"https://colab.research.google.com/github/JeongHunShin91/python_training/blob/main/%5Bpy%5D_T1_4_%EC%99%9C%EB%8F%84%EC%99%80_%EC%B2%A8%EB%8F%84_%EA%B5%AC%ED%95%98%EA%B8%B0_(%EB%A1%9C%EA%B7%B8%EC%8A%A4%EC%BC%80%EC%9D%BC)_Expected_Questions.ipynb\" target=\"_parent\"><img src=\"https://colab.research.google.com/assets/colab-badge.svg\" alt=\"Open In Colab\"/></a>"
      ]
    },
    {
      "cell_type": "code",
      "execution_count": null,
      "metadata": {
        "id": "C6LXozTvWAP0"
      },
      "outputs": [],
      "source": [
        "# 왜도와 첨도 구하기\n",
        "# 주어진 데이터 중 train.csv에서 'SalePrice'컬럼의 왜도와 첨도를 구한 값과, \n",
        "# 'SalePrice'컬럼을 스케일링(log1p)로 변환한 이후 왜도와 첨도를 구해 \n",
        "# 모두 더한 다음 소수점 2째자리까지 출력하시오\n",
        "# 데이터셋 : House Prices - Advanced Regression Technique (https://www.kaggle.com/c/house-prices-advanced-regression-techniques)\n",
        "# 오른쪽 상단 copy&edit 클릭 -> 예상문제 풀이 시작\n",
        "# 강의 영상 : https://youtu.be/_ft7ZlDlk7c"
      ]
    },
    {
      "cell_type": "code",
      "source": [
        "import pandas as pd\n",
        "import numpy as np\n",
        "df = pd.read_csv(\"../input/house-prices-advanced-regression-techniques/train.csv\")\n",
        "df_skew = df['SalePrice'].skew()\n",
        "df_kurtosis = df['SalePrice'].kurtosis()\n",
        "df_skew_log = (np.log1p(df['SalePrice'])).skew()\n",
        "df_kurtosis_log = (np.log1p(df['SalePrice'])).kurtosis()\n",
        "(df_skew+df_kurtosis+df_skew_log+df_kurtosis_log).round(2)"
      ],
      "metadata": {
        "id": "sNHG3G0aWBWQ"
      },
      "execution_count": null,
      "outputs": []
    }
  ]
}