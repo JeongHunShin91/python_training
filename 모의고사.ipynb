{
  "nbformat": 4,
  "nbformat_minor": 0,
  "metadata": {
    "colab": {
      "provenance": [],
      "authorship_tag": "ABX9TyNQ1ZGnP3d4AJuHqqe3LaD8",
      "include_colab_link": true
    },
    "kernelspec": {
      "name": "python3",
      "display_name": "Python 3"
    },
    "language_info": {
      "name": "python"
    }
  },
  "cells": [
    {
      "cell_type": "markdown",
      "metadata": {
        "id": "view-in-github",
        "colab_type": "text"
      },
      "source": [
        "<a href=\"https://colab.research.google.com/github/JeongHunShin91/python_training/blob/main/%EB%AA%A8%EC%9D%98%EA%B3%A0%EC%82%AC.ipynb\" target=\"_parent\"><img src=\"https://colab.research.google.com/assets/colab-badge.svg\" alt=\"Open In Colab\"/></a>"
      ]
    },
    {
      "cell_type": "code",
      "execution_count": null,
      "metadata": {
        "id": "jIqYIzgcPgZ3"
      },
      "outputs": [],
      "source": [
        "문제 설명\n",
        "수포자는 수학을 포기한 사람의 준말입니다. 수포자 삼인방은 모의고사에 수학 문제를 전부 찍으려 합니다. 수포자는 1번 문제부터 마지막 문제까지 다음과 같이 찍습니다.\n",
        "\n",
        "1번 수포자가 찍는 방식: 1, 2, 3, 4, 5, 1, 2, 3, 4, 5, ...\n",
        "2번 수포자가 찍는 방식: 2, 1, 2, 3, 2, 4, 2, 5, 2, 1, 2, 3, 2, 4, 2, 5, ...\n",
        "3번 수포자가 찍는 방식: 3, 3, 1, 1, 2, 2, 4, 4, 5, 5, 3, 3, 1, 1, 2, 2, 4, 4, 5, 5, ...\n",
        "\n",
        "1번 문제부터 마지막 문제까지의 정답이 순서대로 들은 배열 answers가 주어졌을 때, 가장 많은 문제를 맞힌 사람이 누구인지 배열에 담아 return 하도록 solution 함수를 작성해주세요.\n",
        "\n",
        "제한 조건\n",
        "시험은 최대 10,000 문제로 구성되어있습니다.\n",
        "문제의 정답은 1, 2, 3, 4, 5중 하나입니다.\n",
        "가장 높은 점수를 받은 사람이 여럿일 경우, return하는 값을 오름차순 정렬해주세요."
      ]
    },
    {
      "cell_type": "code",
      "source": [
        "def solution(answers):\n",
        "    answer = [0 for i in range(3)]\n",
        "\n",
        "    man1 = [1,2,3,4,5]\n",
        "    man2 = [2,1,2,3,2,4,2,5]\n",
        "    man3 = [3,3,1,1,2,2,4,4,5,5]\n",
        "    \n",
        "    for i in range(len(answers)):\n",
        "        ans = answers[i]\n",
        "        if(man1[i%len(man1)] == ans):\n",
        "            answer[0] += 1\n",
        "        if(man2[i%len(man2)] == ans):\n",
        "            answer[1] += 1\n",
        "        if(man3[i%len(man3)] == ans):\n",
        "            answer[2] += 1     \n",
        "    \n",
        "    result = []\n",
        "    for i in range(len(answer)):\n",
        "        if(answer[i] == max(answer)):\n",
        "            result.append(i+1)\n",
        "    \n",
        "    return sorted(result)"
      ],
      "metadata": {
        "id": "aP6cXMc_QdF9"
      },
      "execution_count": null,
      "outputs": []
    }
  ]
}