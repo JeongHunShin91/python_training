{
  "nbformat": 4,
  "nbformat_minor": 0,
  "metadata": {
    "colab": {
      "provenance": [],
      "authorship_tag": "ABX9TyPG8a3ySGN9smxS5sxnc92c",
      "include_colab_link": true
    },
    "kernelspec": {
      "name": "python3",
      "display_name": "Python 3"
    },
    "language_info": {
      "name": "python"
    }
  },
  "cells": [
    {
      "cell_type": "markdown",
      "metadata": {
        "id": "view-in-github",
        "colab_type": "text"
      },
      "source": [
        "<a href=\"https://colab.research.google.com/github/JeongHunShin91/python_training/blob/main/%5Bpy%5D_T1_10_%EC%97%AC_%EC%A1%B4%EC%8A%A8%EA%B3%BC_%EB%B0%95%EC%8A%A4_%EC%B9%B5%EC%8A%A4_%EB%B3%80%ED%99%98_Expected_Questions.ipynb\" target=\"_parent\"><img src=\"https://colab.research.google.com/assets/colab-badge.svg\" alt=\"Open In Colab\"/></a>"
      ]
    },
    {
      "cell_type": "code",
      "execution_count": null,
      "metadata": {
        "id": "UiVDDNIofpda"
      },
      "outputs": [],
      "source": [
        "수치형 변수 변환하기\n",
        "주어진 데이터에서 20세 이상인 데이터를 추출하고 'f1'컬럼을 결측치를 최빈값으로 채운 후, f1 컬럼의 여-존슨과 박스콕스 변환 값을 구하고, 두 값의 차이를 절대값으로 구한다음 모두 더해 소수점 둘째 자리까지 출력(반올림)하시오\n",
        "데이터셋 : basic1.csv"
      ]
    },
    {
      "cell_type": "code",
      "source": [
        "import pandas as pd\n",
        "import numpy as np\n",
        "from sklearn.preprocessing import power_transform\n",
        "\n",
        "df = pd.read_csv('../input/bigdatacertificationkr/basic1.csv')\n",
        "df20 = df[df[\"age\"]>=20]\n",
        "many = df20[\"f1\"].mode()\n",
        "df20[\"f1\"] = df20[\"f1\"].fillna(many[0])\n",
        "df20[\"a\"] = power_transform(df20[[\"f1\"]],standardize=False)\n",
        "df20[\"b\"] = power_transform(df20[[\"f1\"]],method='box-cox',standardize=False)\n",
        "round(sum(abs(df20[\"b\"]-df20[\"a\"])),2)"
      ],
      "metadata": {
        "id": "VU0Ub5BQlCE_"
      },
      "execution_count": null,
      "outputs": []
    }
  ]
}