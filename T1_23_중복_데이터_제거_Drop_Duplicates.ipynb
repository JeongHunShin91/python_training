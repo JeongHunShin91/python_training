{
  "nbformat": 4,
  "nbformat_minor": 0,
  "metadata": {
    "colab": {
      "provenance": [],
      "authorship_tag": "ABX9TyPXzSrDavfdnW+pfToawYyU",
      "include_colab_link": true
    },
    "kernelspec": {
      "name": "python3",
      "display_name": "Python 3"
    },
    "language_info": {
      "name": "python"
    }
  },
  "cells": [
    {
      "cell_type": "markdown",
      "metadata": {
        "id": "view-in-github",
        "colab_type": "text"
      },
      "source": [
        "<a href=\"https://colab.research.google.com/github/JeongHunShin91/python_training/blob/main/T1_23_%EC%A4%91%EB%B3%B5_%EB%8D%B0%EC%9D%B4%ED%84%B0_%EC%A0%9C%EA%B1%B0_Drop_Duplicates.ipynb\" target=\"_parent\"><img src=\"https://colab.research.google.com/assets/colab-badge.svg\" alt=\"Open In Colab\"/></a>"
      ]
    },
    {
      "cell_type": "code",
      "execution_count": null,
      "metadata": {
        "id": "8vmjeuJy7Ync"
      },
      "outputs": [],
      "source": [
        "f1의 결측치를 채운 후 age 컬럼의 중복 제거 전과 후의 'f1' 중앙값 차이를 구하시오\n",
        "- 결측치는 f1의 데이터 중 내림차순 정렬 후 10번째 값으로 채움\n",
        "- 중복 데이터 발생시 뒤에 나오는 데이터를 삭제함\n",
        "- 최종 결과값은 절대값으로 출력\n",
        "데이터셋 : basic1.csv"
      ]
    },
    {
      "cell_type": "code",
      "source": [
        "import pandas as pd\n",
        "df = pd.read_csv('../input/bigdatacertificationkr/basic1.csv')\n",
        "df = df.sort_values(by=\"f1\")\n",
        "df[\"f1\"] = df[\"f1\"].fillna(df[\"f1\"].iloc[9])\n",
        "df1 = df.drop_duplicates([\"age\"])\n",
        "abs(df[\"f1\"].median()-df1[\"f1\"].median())"
      ],
      "metadata": {
        "id": "ioI5CCLd7zMB"
      },
      "execution_count": null,
      "outputs": []
    }
  ]
}