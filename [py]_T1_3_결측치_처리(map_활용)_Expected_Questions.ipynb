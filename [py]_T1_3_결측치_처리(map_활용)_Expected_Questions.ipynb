{
  "nbformat": 4,
  "nbformat_minor": 0,
  "metadata": {
    "colab": {
      "provenance": [],
      "authorship_tag": "ABX9TyPSybobaCHk9B0UesgZwiY2",
      "include_colab_link": true
    },
    "kernelspec": {
      "name": "python3",
      "display_name": "Python 3"
    },
    "language_info": {
      "name": "python"
    }
  },
  "cells": [
    {
      "cell_type": "markdown",
      "metadata": {
        "id": "view-in-github",
        "colab_type": "text"
      },
      "source": [
        "<a href=\"https://colab.research.google.com/github/JeongHunShin91/python_training/blob/main/%5Bpy%5D_T1_3_%EA%B2%B0%EC%B8%A1%EC%B9%98_%EC%B2%98%EB%A6%AC(map_%ED%99%9C%EC%9A%A9)_Expected_Questions.ipynb\" target=\"_parent\"><img src=\"https://colab.research.google.com/assets/colab-badge.svg\" alt=\"Open In Colab\"/></a>"
      ]
    },
    {
      "cell_type": "code",
      "source": [
        "## 결측치 처리\n",
        "-  주어진 데이터에서 결측치가 80%이상 되는 컬럼은(변수는) 삭제하고, 80% 미만인 결측치가 있는 컬럼은 'city'별 중앙값으로 값을 대체하고 'f1'컬럼의 평균값을 출력하세요!\n",
        "- 데이터셋 : basic1.csv 오른쪽 상단 copy&edit 클릭 -> 예상문제 풀이 시작"
      ],
      "metadata": {
        "id": "uVxPzzAZEPj2"
      },
      "execution_count": null,
      "outputs": []
    },
    {
      "cell_type": "code",
      "execution_count": null,
      "metadata": {
        "id": "llwHXC9A_bvF"
      },
      "outputs": [],
      "source": [
        "# 라이브러리 및 데이터 불러오기\n",
        "import pandas as pd\n",
        "import numpy as np\n",
        "df = pd.read_csv('../input/bigdatacertificationkr/basic1.csv')\n",
        "df.head()\n",
        "df_bool = df.isnull().sum()/len(df.index) < 0.8\n",
        "df_loc = df.loc[:,df_bool]\n",
        "df_city = df_loc.groupby(\"city\")['f1'].median()\n",
        "df_fillna = df_loc.fillna(df_city)\n",
        "df['f1'] = df['f1'].fillna(df['city'].map({'서울':68,'경기':58,'부산':62,'대구':75}))\n",
        "df['f1'].mean()"
      ]
    }
  ]
}