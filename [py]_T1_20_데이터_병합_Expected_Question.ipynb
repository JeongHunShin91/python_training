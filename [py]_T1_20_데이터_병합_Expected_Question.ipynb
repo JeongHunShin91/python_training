{
  "nbformat": 4,
  "nbformat_minor": 0,
  "metadata": {
    "colab": {
      "provenance": [],
      "authorship_tag": "ABX9TyM4GOkp0Rn6Oq9sQDmAc9Fv",
      "include_colab_link": true
    },
    "kernelspec": {
      "name": "python3",
      "display_name": "Python 3"
    },
    "language_info": {
      "name": "python"
    }
  },
  "cells": [
    {
      "cell_type": "markdown",
      "metadata": {
        "id": "view-in-github",
        "colab_type": "text"
      },
      "source": [
        "<a href=\"https://colab.research.google.com/github/JeongHunShin91/python_training/blob/main/%5Bpy%5D_T1_20_%EB%8D%B0%EC%9D%B4%ED%84%B0_%EB%B3%91%ED%95%A9_Expected_Question.ipynb\" target=\"_parent\"><img src=\"https://colab.research.google.com/assets/colab-badge.svg\" alt=\"Open In Colab\"/></a>"
      ]
    },
    {
      "cell_type": "code",
      "execution_count": null,
      "metadata": {
        "id": "eQv1HX8dLbgo"
      },
      "outputs": [],
      "source": [
        "고객과 잘 맞는 타입 추천 :)\n",
        "basic1 데이터와 basic3 데이터를 'f4'값을 기준으로 병합하고,\n",
        "병합한 데이터에서 r2결측치를 제거한다음, 앞에서 부터 20개 데이터를 선택하고 'f2'컬럼 합을 구하시오\n",
        "basic1.csv: 고객 데이터\n",
        "basic3.csv: 잘 어울리는 관계 데이터 (추천1:r1, 추천2:r2)"
      ]
    },
    {
      "cell_type": "code",
      "source": [
        "import pandas as pd\n",
        "b1 = pd.read_csv(\"../input/bigdatacertificationkr/basic1.csv\")\n",
        "b3 = pd.read_csv(\"../input/bigdatacertificationkr/basic3.csv\")\n",
        "b2 = pd.merge(b1,b3, how='left',on=\"f4\")\n",
        "b2[~b2[\"r2\"].isnull()].head(20)[\"f2\"].sum()"
      ],
      "metadata": {
        "id": "v2OGSj5USX0M"
      },
      "execution_count": null,
      "outputs": []
    }
  ]
}