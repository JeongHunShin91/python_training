{
  "nbformat": 4,
  "nbformat_minor": 0,
  "metadata": {
    "colab": {
      "provenance": [],
      "authorship_tag": "ABX9TyNGl5JcZvfuNLkEtPdRaX9a",
      "include_colab_link": true
    },
    "kernelspec": {
      "name": "python3",
      "display_name": "Python 3"
    },
    "language_info": {
      "name": "python"
    }
  },
  "cells": [
    {
      "cell_type": "markdown",
      "metadata": {
        "id": "view-in-github",
        "colab_type": "text"
      },
      "source": [
        "<a href=\"https://colab.research.google.com/github/JeongHunShin91/python_training/blob/main/%5Bpy%5D_T1_5_%EC%A1%B0%EA%B1%B4%EC%97%90_%EB%A7%9E%EB%8A%94_%EB%8D%B0%EC%9D%B4%ED%84%B0_%ED%91%9C%EC%A4%80%ED%8E%B8%EC%B0%A8_%EA%B5%AC%ED%95%98%EA%B8%B0_Expected_Questions.ipynb\" target=\"_parent\"><img src=\"https://colab.research.google.com/assets/colab-badge.svg\" alt=\"Open In Colab\"/></a>"
      ]
    },
    {
      "cell_type": "code",
      "source": [
        "조건에 맞는 데이터 표준편차 구하기¶\n",
        "주어진 데이터 중 basic1.csv에서 'f4'컬럼 값이 'ENFJ'와 'INFP'인 'f1'의 표준편차 차이를 절대값으로 구하시오\n",
        "데이터셋 : basic1.csv"
      ],
      "metadata": {
        "id": "o0cMCte2JY2t"
      },
      "execution_count": null,
      "outputs": []
    },
    {
      "cell_type": "code",
      "execution_count": null,
      "metadata": {
        "id": "AbiXiNx_JFIc"
      },
      "outputs": [],
      "source": [
        "import pandas as pd\n",
        "import numpy as np\n",
        "\n",
        "df = pd.read_csv('../input/bigdatacertificationkr/basic1.csv')\n",
        "ENFJ = df[df[\"f4\"]==\"ENFJ\"][\"f1\"].std()\n",
        "INFP = df[df[\"f4\"]==\"INFP\"][\"f1\"].std()\n",
        "abs(ENFJ-INFP)"
      ]
    }
  ]
}