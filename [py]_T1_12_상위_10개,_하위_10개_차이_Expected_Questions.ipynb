{
  "nbformat": 4,
  "nbformat_minor": 0,
  "metadata": {
    "colab": {
      "provenance": [],
      "authorship_tag": "ABX9TyOBoDom+erOvhs+d0U2nDlQ",
      "include_colab_link": true
    },
    "kernelspec": {
      "name": "python3",
      "display_name": "Python 3"
    },
    "language_info": {
      "name": "python"
    }
  },
  "cells": [
    {
      "cell_type": "markdown",
      "metadata": {
        "id": "view-in-github",
        "colab_type": "text"
      },
      "source": [
        "<a href=\"https://colab.research.google.com/github/JeongHunShin91/python_training/blob/main/%5Bpy%5D_T1_12_%EC%83%81%EC%9C%84_10%EA%B0%9C%2C_%ED%95%98%EC%9C%84_10%EA%B0%9C_%EC%B0%A8%EC%9D%B4_Expected_Questions.ipynb\" target=\"_parent\"><img src=\"https://colab.research.google.com/assets/colab-badge.svg\" alt=\"Open In Colab\"/></a>"
      ]
    },
    {
      "cell_type": "code",
      "execution_count": null,
      "metadata": {
        "id": "qg2LRzTJUgUy"
      },
      "outputs": [],
      "source": [
        "# 주어진 데이터에서 상위 10개 국가의 접종률 평균과 하위 10개 국가의 접종률 평균을 구하고, 그 차이를 구해보세요 \n",
        "# (단, 100%가 넘는 접종률 제거, 소수 첫째자리까지 출력)\n",
        "\n",
        "# - 데이터셋 : ../input/covid-vaccination-vs-death/covid-vaccination-vs-death_ratio.csv"
      ]
    },
    {
      "cell_type": "code",
      "source": [
        "import pandas as pd\n",
        "\n",
        "df = pd.read_csv(\"../input/covid-vaccination-vs-death/covid-vaccination-vs-death_ratio.csv\")\n",
        "dfmax = df.groupby(\"country\")[\"ratio\"].max()\n",
        "print(dfmax.tail())\n",
        "dfmax = dfmax.sort_values(ascending = False)\n",
        "dfmax = dfmax[dfmax<100]\n",
        "print(dfmax.tail())\n",
        "round(dfmax.head(10).mean()-dfmax.tail(10).mean(),1)"
      ],
      "metadata": {
        "id": "2pnENeoHUlVy"
      },
      "execution_count": null,
      "outputs": []
    }
  ]
}